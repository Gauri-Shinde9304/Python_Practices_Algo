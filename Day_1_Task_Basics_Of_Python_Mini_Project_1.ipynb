{
 "cells": [
  {
   "cell_type": "markdown",
   "metadata": {},
   "source": [
    "1.Write a Python print statement that shows a message saying, \"Starting the trading session.\""
   ]
  },
  {
   "cell_type": "code",
   "execution_count": 1,
   "metadata": {},
   "outputs": [
    {
     "name": "stdout",
     "output_type": "stream",
     "text": [
      "Startinf the training session\n"
     ]
    }
   ],
   "source": [
    "print(\"Startinf the training session\")"
   ]
  },
  {
   "cell_type": "markdown",
   "metadata": {},
   "source": [
    "2.Create a variable stock_price that stores the current price of a stock as a floating-point number."
   ]
  },
  {
   "cell_type": "code",
   "execution_count": 3,
   "metadata": {},
   "outputs": [
    {
     "name": "stdout",
     "output_type": "stream",
     "text": [
      "200.5\n"
     ]
    }
   ],
   "source": [
    "stock_price=float(200.5)\n",
    "print(stock_price)"
   ]
  },
  {
   "cell_type": "markdown",
   "metadata": {},
   "source": [
    "3.Assign the symbol AAPL to a variable named stock_symbol."
   ]
  },
  {
   "cell_type": "code",
   "execution_count": 1,
   "metadata": {},
   "outputs": [],
   "source": [
    "stock_symbol=\"APPL\""
   ]
  },
  {
   "cell_type": "markdown",
   "metadata": {},
   "source": [
    "4.Add a comment explaining that the following code will initialize a trading balance variable with 10000."
   ]
  },
  {
   "cell_type": "code",
   "execution_count": null,
   "metadata": {},
   "outputs": [],
   "source": [
    "\n",
    "trading_balance = 10000\n"
   ]
  },
  {
   "cell_type": "markdown",
   "metadata": {},
   "source": [
    "5.Identify and fix the syntax error in the following code snippet:\n",
    "   total_return = final_price - initial_price\n",
    "   print(total_return)"
   ]
  },
  {
   "cell_type": "code",
   "execution_count": 3,
   "metadata": {},
   "outputs": [
    {
     "name": "stdout",
     "output_type": "stream",
     "text": [
      "2000\n"
     ]
    }
   ],
   "source": [
    "final_price=3000\n",
    "initial_price=1000\n",
    "total_return = final_price - initial_price\n",
    "print(total_return)"
   ]
  },
  {
   "cell_type": "markdown",
   "metadata": {},
   "source": [
    "6.Write a program that asks the user for the quantity of a stock to buy and prints \"Buying X shares,\" where X is the input quantity."
   ]
  },
  {
   "cell_type": "code",
   "execution_count": 5,
   "metadata": {},
   "outputs": [
    {
     "name": "stdout",
     "output_type": "stream",
     "text": [
      "3000\n"
     ]
    }
   ],
   "source": [
    "Buying_X_Share=input(\"Quantity of a stock you want to buy\")\n",
    "print(Buying_X_Share)"
   ]
  },
  {
   "cell_type": "markdown",
   "metadata": {},
   "source": [
    "7.Convert a string variable price_str holding the value \"89.50\" into a floating-point number."
   ]
  },
  {
   "cell_type": "code",
   "execution_count": 6,
   "metadata": {},
   "outputs": [],
   "source": [
    "price_str = \"89.50\"\n",
    "price_float = float(price_str)\n"
   ]
  },
  {
   "cell_type": "markdown",
   "metadata": {},
   "source": [
    "8.Define a list literal containing the stock symbols \"AAPL\", \"TSLA\", and \"GOOGL\"."
   ]
  },
  {
   "cell_type": "code",
   "execution_count": 7,
   "metadata": {},
   "outputs": [
    {
     "name": "stdout",
     "output_type": "stream",
     "text": [
      "['AAPL', 'TSLA', 'GOOGL']\n"
     ]
    }
   ],
   "source": [
    "Stock_List=[\"AAPL\", \"TSLA\", \"GOOGL\"]\n",
    "print(Stock_List)"
   ]
  },
  {
   "cell_type": "markdown",
   "metadata": {},
   "source": [
    "9.Write a print statement that outputs \"Stock XYZ is trading at $PRICE\", where XYZ is a variable symbol, and PRICE is a floating-point variable price."
   ]
  },
  {
   "cell_type": "code",
   "execution_count": 9,
   "metadata": {},
   "outputs": [
    {
     "name": "stdout",
     "output_type": "stream",
     "text": [
      "Stock XYZ is trading at $123.45\n"
     ]
    }
   ],
   "source": [
    "symbol = \"XYZ\"\n",
    "price = 123.45\n",
    "\n",
    "print(f\"Stock {symbol} is trading at ${price}\")\n"
   ]
  },
  {
   "cell_type": "markdown",
   "metadata": {},
   "source": [
    "10.Write a Python Program print_trade_summary(symbol, quantity, price) that accepts a stock symbol, the number of shares, and the price per share. It should print out a formatted summary of the total trade cost."
   ]
  },
  {
   "cell_type": "code",
   "execution_count": null,
   "metadata": {},
   "outputs": [],
   "source": [
    "def print_trade_summary(symbol, quantity, price):\n",
    "    total_cost = quantity * price\n",
    "    print(f\"Trade Summary\")\n",
    "    print(f\"Stock Symbol : {symbol}\")\n",
    "    print(f\"Quantity     : {quantity}\")\n",
    "    print(f\"Price/Share  : ${price:.2f}\")\n",
    "    print(f\"Total Cost   : ${total_cost:.2f}\")\n",
    "\n",
    "print_trade_summary(\"AAPL\", 10, 150.5)\n"
   ]
  },
  {
   "cell_type": "markdown",
   "metadata": {},
   "source": [
    "**11.** Calculate the Daily Return on Investment (ROI)\n",
    "\n",
    "**Objective:** Prompt the user to enter the purchase price and the selling price of a stock, and calculate the ROI.\n"
   ]
  },
  {
   "cell_type": "code",
   "execution_count": 1,
   "metadata": {},
   "outputs": [
    {
     "name": "stdout",
     "output_type": "stream",
     "text": [
      "\n",
      "--- ROI Summary ---\n",
      "Purchase Price: 22.0\n",
      "Selling Price: 20.0\n",
      "Loss! ROI = -9.09%\n"
     ]
    }
   ],
   "source": [
    "purchase_price = float(input(\"Enter the purchase price of the stock: \"))\n",
    "selling_price = float(input(\"Enter the selling price of the stock: \"))\n",
    "\n",
    "roi = ((selling_price - purchase_price) / purchase_price) * 100\n",
    "\n",
    "print(\"\\n--- ROI Summary ---\")\n",
    "print(f\"Purchase Price: {purchase_price}\")\n",
    "print(f\"Selling Price: {selling_price}\")\n",
    "\n",
    "if roi > 0:\n",
    "    print(f\"Profit! ROI = {roi:.2f}%\")\n",
    "elif roi < 0:\n",
    "    print(f\"Loss! ROI = {roi:.2f}%\")\n",
    "else:\n",
    "    print(\"No profit, no loss. ROI = 0%\")\n"
   ]
  },
  {
   "cell_type": "markdown",
   "metadata": {},
   "source": [
    "**12.** Determine the Average Price from User Inputs\n",
    "\n",
    "**Objective:** Ask the user to input three different prices of a stock throughout the day and compute the average.\n"
   ]
  },
  {
   "cell_type": "code",
   "execution_count": null,
   "metadata": {},
   "outputs": [
    {
     "name": "stdout",
     "output_type": "stream",
     "text": [
      "\n",
      "--- Average Price Summary ---\n",
      "Price 1: 36.0\n",
      "Price 2: 56.7\n",
      "Price 3: 66.8\n",
      "Average Stock Price: 53.17\n"
     ]
    }
   ],
   "source": [
    "n = int(input(\"How many stock prices do you want to enter? \"))\n",
    "\n",
    "prices = []\n",
    "for i in range(n):\n",
    "    price = float(input(f\"Enter price {i+1}: \"))\n",
    "    prices.append(price)\n",
    "\n",
    "average_price = sum(prices) / n\n",
    "\n",
    "print(\"\\n--- Average Price Summary ---\")\n",
    "for i, p in enumerate(prices, 1):\n",
    "    print(f\"Price {i}: {p}\")\n",
    "print(f\"Average Stock Price: {average_price:.2f}\")\n"
   ]
  },
  {
   "cell_type": "code",
   "execution_count": 10,
   "metadata": {},
   "outputs": [
    {
     "name": "stdout",
     "output_type": "stream",
     "text": [
      "[1, 3, 8, 9, 20]\n"
     ]
    }
   ],
   "source": [
    "Nayan = [1, 3, 8, 9, 20]\n",
    "\n",
    "print(Nayan)"
   ]
  },
  {
   "cell_type": "code",
   "execution_count": 11,
   "metadata": {},
   "outputs": [
    {
     "name": "stdout",
     "output_type": "stream",
     "text": [
      "1\n",
      "3\n",
      "8\n",
      "9\n",
      "20\n"
     ]
    }
   ],
   "source": [
    "for i in Nayan:\n",
    "    print(i)"
   ]
  },
  {
   "cell_type": "code",
   "execution_count": 15,
   "metadata": {},
   "outputs": [
    {
     "name": "stdout",
     "output_type": "stream",
     "text": [
      "20\n"
     ]
    }
   ],
   "source": [
    "print(Nayan[4])"
   ]
  },
  {
   "cell_type": "code",
   "execution_count": 18,
   "metadata": {},
   "outputs": [
    {
     "name": "stdout",
     "output_type": "stream",
     "text": [
      "Index: 2, it's value is : 1\n",
      "Index: 3, it's value is : 3\n",
      "Index: 4, it's value is : 8\n",
      "Index: 5, it's value is : 9\n",
      "Index: 6, it's value is : 20\n"
     ]
    }
   ],
   "source": [
    "for i, p in enumerate(Nayan, 2):\n",
    "    print(f\"Index: {i}, it's value is : {p}\")"
   ]
  },
  {
   "cell_type": "code",
   "execution_count": 17,
   "metadata": {},
   "outputs": [
    {
     "name": "stdout",
     "output_type": "stream",
     "text": [
      "5\n"
     ]
    }
   ],
   "source": [
    "print(len(Nayan))"
   ]
  },
  {
   "cell_type": "markdown",
   "metadata": {},
   "source": []
  },
  {
   "cell_type": "markdown",
   "metadata": {},
   "source": [
    "**13.** Compare Two Stock Prices\n",
    "\n",
    "**Objective:** Ask the user for the prices of two stocks and print which one is higher.\n",
    "\n"
   ]
  },
  {
   "cell_type": "code",
   "execution_count": null,
   "metadata": {},
   "outputs": [],
   "source": [
    "price1 = float(input(\"Enter the first stock price: \"))\n",
    "price2 = float(input(\"Enter the second stock price: \"))\n",
    "\n",
    "# Compare the prices\n",
    "if price1 > price2:\n",
    "    print(f\"The first stock price ({price1}) is higher than the second ({price2}).\")\n",
    "elif price2 > price1:\n",
    "    print(f\"The second stock price ({price2}) is higher than the first ({price1}).\")\n",
    "else:\n",
    "    print(\"Both stock prices are equal.\")"
   ]
  },
  {
   "cell_type": "markdown",
   "metadata": {},
   "source": [
    "**14.** Break-Even Price Calculator\n",
    "\n",
    "**Objective:** Calculate the break-even price after buying a stock and spending money on fees.\n",
    "\n",
    "\n"
   ]
  },
  {
   "cell_type": "code",
   "execution_count": null,
   "metadata": {},
   "outputs": [
    {
     "name": "stdout",
     "output_type": "stream",
     "text": [
      "\n",
      "Total Cost: ₹5100.00\n",
      "Break-Even Price per Share: ₹51.00\n"
     ]
    }
   ],
   "source": [
    "shares = int(input(\"Enter number of shares bought: \"))\n",
    "price_per_share = float(input(\"Enter price per share: \"))\n",
    "fees = float(input(\"Enter total fees (brokerage, tax, etc.): \"))\n",
    "\n",
    "total_cost = (shares * price_per_share) + fees\n",
    "\n",
    "break_even_price = total_cost / shares\n",
    "\n",
    "\n",
    "print(f\"Break-Even Price per Share: ₹{break_even_price:.2f}\")\n"
   ]
  },
  {
   "cell_type": "code",
   "execution_count": null,
   "metadata": {},
   "outputs": [
    {
     "name": "stdout",
     "output_type": "stream",
     "text": [
      "\n",
      "Total Cost: ₹5100.00\n",
      "Break-even Price per Share: 51.00\n"
     ]
    }
   ],
   "source": [
    "shares = int(input(\"Enter number of shares bought: \"))\n",
    "price_per_share = float(input(\"Enter price per share: \"))\n",
    "fees = float(input(\"Enter total fees (brokerage, tax, etc.): \"))\n",
    "\n",
    "break_even_price = (shares * price_per_share + fees) / shares\n",
    "\n",
    "print(f\"\\nTotal Cost: ₹{total_cost:.2f}\")\n",
    "print(f\"Break-even Price per Share: {break_even_price:.2f}\")\n",
    "\n",
    "# 3. Breakeven Price\n",
    "# Definition: Wo price jaha tumhare buy cost + fees pura recover ho jata hai.\n",
    "# Is price par na profit hota hai na loss.\n",
    "#\n",
    "# Example:\n",
    "# Shares = 100, Price per share = ₹50, Fees = ₹100\n",
    "# Total cost = 100×50 + 100 = ₹5,100\n",
    "# Breakeven Price = 5100 / 100 = ₹51\n",
    "# Matlab ₹51 par bechoge to no profit, no loss.\n"
   ]
  },
  {
   "cell_type": "markdown",
   "metadata": {},
   "source": [
    "**15.** Display Stock Price Change\n",
    "\n",
    "**Objective:** Ask the user to enter yesterday's and today's stock prices, then print the change in price.\n",
    "\n",
    "\n"
   ]
  },
  {
   "cell_type": "code",
   "execution_count": 4,
   "metadata": {},
   "outputs": [
    {
     "name": "stdout",
     "output_type": "stream",
     "text": [
      "\n",
      "Yesterday's Price: 40.0\n",
      "Today's Price: 30.0\n",
      "Change in Stock: -10.0\n",
      "Stock went DOWN 📉\n"
     ]
    }
   ],
   "source": [
    "yesterday_price = float(input(\"Enter yesterday's stock price: \"))\n",
    "today_price = float(input(\"Enter today's stock price: \"))\n",
    "\n",
    "change = today_price - yesterday_price\n",
    "\n",
    "print(f\"\\nYesterday's Price: {yesterday_price}\")\n",
    "print(f\"Today's Price: {today_price}\")\n",
    "print(f\"Change in Stock: {change}\")\n",
    "\n",
    "if change > 0:\n",
    "    print(\"Stock went UP 📈\")\n",
    "elif change < 0:\n",
    "    print(\"Stock went DOWN 📉\")\n",
    "else:\n",
    "    print(\"No change in stock 😐\")\n"
   ]
  },
  {
   "cell_type": "markdown",
   "metadata": {},
   "source": [
    "**16.** Calculate Required Margin\n",
    "\n",
    "**Objective:** Calculate the required margin for a trade based on user inputs for trade size and margin rate.\n",
    "\n"
   ]
  },
  {
   "cell_type": "code",
   "execution_count": null,
   "metadata": {},
   "outputs": [
    {
     "name": "stdout",
     "output_type": "stream",
     "text": [
      "The required margin rate is 10.0\n"
     ]
    }
   ],
   "source": [
    "trade_size=float(input(\"Enter the Trade value in $\"))\n",
    "margin_rate=float(input(\"enter the margin_rate in %\"))\n",
    "required_margin = (trade_size * margin_rate) / 100\n",
    "print(f\"The required margin rate is {required_margin}\")\n",
    "\n",
    "# 2. Required Margin\n",
    "# Definition: Broker ke account me minimum paisa jo rakhna padta hai\n",
    "# taaki tum koi trade open kar sako. Ye ek security deposit jaisa hota hai.\n",
    "#\n",
    "# Example:\n",
    "# Agar 1 share ka price = ₹100 hai aur tum 100 shares lena chahte ho,\n",
    "# Total value = 100 × 100 = ₹10,000\n",
    "# Broker bolta hai 20% margin chahiye\n",
    "# Required Margin = 20% of 10,000 = ₹2,000"
   ]
  },
  {
   "cell_type": "markdown",
   "metadata": {},
   "source": [
    "**17.** Convert Currency from User Input\n",
    "\n",
    "**Objective:** Ask the user for an amount in USD and a conversion rate, then convert it to another currency.\n",
    "\n",
    "\n"
   ]
  },
  {
   "cell_type": "code",
   "execution_count": null,
   "metadata": {},
   "outputs": [
    {
     "name": "stdout",
     "output_type": "stream",
     "text": [
      "40.0 USD = 3480.0 INR\n"
     ]
    }
   ],
   "source": [
    "usd_amount = float(input(\"Enter amount in USD: \"))\n",
    "\n",
    "country = input(\"Enter the target currency (INR, EUR, GBP, JPY): \").upper()\n",
    "\n",
    "conversion_rates = {\n",
    "    \"INR\": 87.0,   # 1 USD = 87 Indian Rupees\n",
    "    \"EUR\": 0.91,   # 1 USD = 0.91 Euro\n",
    "    \"GBP\": 0.78,   # 1 USD = 0.78 British Pound\n",
    "    \"JPY\": 145.6   # 1 USD = 145.6 Japanese Yen\n",
    "}\n",
    "\n",
    "if country in conversion_rates:\n",
    "    converted = usd_amount * conversion_rates[country]\n",
    "    print(f\"{usd_amount} USD = {converted} {country}\")\n",
    "else:\n",
    "    print(\"Sorry, currency not available. Please enter INR, EUR, GBP, or JPY.\")\n"
   ]
  },
  {
   "cell_type": "markdown",
   "metadata": {},
   "source": [
    "**18.** Calculate the Weighted Average Price\n",
    "\n",
    "**Objective:** Calculate the weighted average price based on user inputs for different prices and their respective weights.\n",
    "\n",
    "\n"
   ]
  },
  {
   "cell_type": "code",
   "execution_count": null,
   "metadata": {},
   "outputs": [],
   "source": [
    "prices = [100, 120, 150]     # price per share\n",
    "\n",
    "# Quantity of shares bought at each price\n",
    "quantities = [10, 20, 30]    # number of shares\n",
    "\n",
    "total_cost = 0     # sabhi shares pe total paisa\n",
    "total_shares = 0   # total shares kitne liye\n",
    "\n",
    "for i in range(len(prices)):\n",
    "    total_cost += prices[i] * quantities[i]   # price × shares\n",
    "    total_shares += quantities[i]             # total shares add karna\n",
    "\n",
    "# Weighted average price per share\n",
    "weighted_avg_price = total_cost / total_shares\n",
    "\n",
    "print(f\"Total Shares: {total_shares}\")\n",
    "print(f\"Total Investment: {total_cost}\")\n",
    "print(f\"Weighted Average Price per Share: {weighted_avg_price}\")\n",
    "\n",
    "\n",
    "# 1. Weighted Average\n",
    "# Definition: Jab alag-alag prices par tum different quantity buy karte ho,\n",
    "# to average nikalte time quantity ko bhi dhyaan me lena padta hai.\n",
    "# Formula: Weighted Average = (Price × Quantity ka total) / (Total Quantity)\n",
    "#\n",
    "# Example:\n",
    "# Prices = [100, 200, 300]\n",
    "# Quantities = [2, 3, 5]\n",
    "# Weighted Average = (100×2 + 200×3 + 300×5) / (2+3+5)\n",
    "# = (200 + 600 + 1500) / 10 = 230\n",
    "# Matlab ek mango ka average price = ₹230"
   ]
  },
  {
   "cell_type": "markdown",
   "metadata": {},
   "source": [
    "**19.** User Input to Adjust Stock Quantity\n",
    "\n",
    "**Objective:** Prompt the user for the current number of stocks, how many to buy, and how many to sell, then calculate the new total.\n",
    "\n",
    "\n",
    "\n"
   ]
  },
  {
   "cell_type": "code",
   "execution_count": 3,
   "metadata": {},
   "outputs": [
    {
     "name": "stdout",
     "output_type": "stream",
     "text": [
      "The total number of stocks are 370\n"
     ]
    }
   ],
   "source": [
    "current_stocks=int(input(\"Enter the current number of stocks\"))\n",
    "buying_stocks=int(input(\"Enter the number of stocks you want to buy\"))\n",
    "selling_stocks=int(input(\"Enter the number of stocks you want to sell\"))\n",
    "total= current_stocks+buying_stocks-selling_stocks\n",
    "print(f\"The total number of stocks are {total}\")"
   ]
  },
  {
   "cell_type": "markdown",
   "metadata": {},
   "source": [
    "### Python Mini Project 1 :\n",
    "\n",
    "Scenario: Stock Data Entry and Analysis Tool\n",
    "\n",
    "**Objective:**\n",
    "Create a Python script that  will involve taking manual input for stock prices over a week and will calculate the average price. It should also demonstrate variable declaration, user input, and basic arithmetic using Python types.\n",
    "\n"
   ]
  },
  {
   "cell_type": "code",
   "execution_count": null,
   "metadata": {},
   "outputs": [
    {
     "name": "stdout",
     "output_type": "stream",
     "text": [
      "\n",
      "Enter the stock prices for AAPL for 7 days:\n",
      "\n",
      "--- Stock Summary ---\n",
      "Stock AAPL prices: [70.0, 70.0, 70.0, 70.0, 70.0, 70.0, 70.0]\n",
      "Average price for the week: $70.00\n"
     ]
    }
   ],
   "source": [
    "symbol = input(\"Enter the stock symbol (e.g., AAPL, TSLA, XYZ): \")\n",
    "\n",
    "prices = []\n",
    "\n",
    "print(f\"\\nEnter the stock prices for {symbol} for 7 days:\")\n",
    "for day in range(1, 8):\n",
    "    price = float(input(f\"Day {day} price: \"))\n",
    "    prices.append(price)\n",
    "\n",
    "total = sum(prices)/7       \n",
    "\n",
    "print(\"\\n--- Stock Summary ---\")\n",
    "print(f\"Stock {symbol} prices: {prices}\")\n",
    "print(f\"Average price for the week: ${total:.2f}\")\n"
   ]
  },
  {
   "cell_type": "code",
   "execution_count": null,
   "metadata": {},
   "outputs": [],
   "source": []
  }
 ],
 "metadata": {
  "kernelspec": {
   "display_name": "venv",
   "language": "python",
   "name": "python3"
  },
  "language_info": {
   "codemirror_mode": {
    "name": "ipython",
    "version": 3
   },
   "file_extension": ".py",
   "mimetype": "text/x-python",
   "name": "python",
   "nbconvert_exporter": "python",
   "pygments_lexer": "ipython3",
   "version": "3.12.10"
  }
 },
 "nbformat": 4,
 "nbformat_minor": 2
}
